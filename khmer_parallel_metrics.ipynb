{
 "metadata": {
  "celltoolbar": "Slideshow",
  "name": "",
  "signature": "sha256:510e8acd814cce6c9b664000bcf4dc46270d98b795c57733c4ba2ed5634078b5"
 },
 "nbformat": 3,
 "nbformat_minor": 0,
 "worksheets": [
  {
   "cells": [
    {
     "cell_type": "markdown",
     "metadata": {
      "slideshow": {
       "slide_type": "slide"
      }
     },
     "source": [
      "# khmer Parallel Performance Metrics\n",
      "#### Camille Scott\n",
      "#### Michigan State University\n",
      "#### GED Lab\n",
      "#### https://github.com/camillescott\n",
      "\n",
      "*khmer source code*: https://github.com/ged-lab/khmer\n",
      "\n",
      "*this notebook*: https://github.com/camillescott/fs2014-cse891/tree/master/final"
     ]
    },
    {
     "cell_type": "code",
     "collapsed": false,
     "input": [
      "%pylab inline"
     ],
     "language": "python",
     "metadata": {
      "slideshow": {
       "slide_type": "skip"
      }
     },
     "outputs": [
      {
       "output_type": "stream",
       "stream": "stdout",
       "text": [
        "Populating the interactive namespace from numpy and matplotlib\n"
       ]
      },
      {
       "output_type": "stream",
       "stream": "stderr",
       "text": [
        "WARNING: pylab import has clobbered these variables: ['e']\n",
        "`%matplotlib` prevents importing * from pylab and numpy\n"
       ]
      }
     ],
     "prompt_number": 40
    },
    {
     "cell_type": "code",
     "collapsed": false,
     "input": [
      "%load_ext autoreload\n",
      "%autoreload 2"
     ],
     "language": "python",
     "metadata": {
      "slideshow": {
       "slide_type": "skip"
      }
     },
     "outputs": [
      {
       "output_type": "stream",
       "stream": "stdout",
       "text": [
        "The autoreload extension is already loaded. To reload it, use:\n",
        "  %reload_ext autoreload\n"
       ]
      }
     ],
     "prompt_number": 41
    },
    {
     "cell_type": "code",
     "collapsed": false,
     "input": [
      "import khmer\n",
      "import screed\n",
      "import peasoup\n",
      "import seaborn as sns\n",
      "import pandas as pd\n",
      "from IPython.display import FileLink\n",
      "\n",
      "import warnings\n",
      "warnings.filterwarnings(\"ignore\",category=DeprecationWarning)\n",
      "warnings.filterwarnings(\"ignore\",category=UserWarning)"
     ],
     "language": "python",
     "metadata": {
      "slideshow": {
       "slide_type": "skip"
      }
     },
     "outputs": [],
     "prompt_number": 42
    },
    {
     "cell_type": "code",
     "collapsed": false,
     "input": [
      "tall_size = (12,24)\n",
      "norm_size = (18,12)\n",
      "mpl_params = {'axes.titlesize': 24,\n",
      "               'axes.labelsize': 20,\n",
      "               'ytick.labelsize': 18,\n",
      "               'xtick.labelsize': 18\n",
      "               }\n",
      "sns.set(style='ticks', rc=mpl_params)\n",
      "%config InlineBackend.close_figures = False"
     ],
     "language": "python",
     "metadata": {
      "slideshow": {
       "slide_type": "skip"
      }
     },
     "outputs": [],
     "prompt_number": 43
    },
    {
     "cell_type": "markdown",
     "metadata": {
      "slideshow": {
       "slide_type": "slide"
      }
     },
     "source": [
      "## Generate Test Data\n",
      "\n",
      "Here, we'll generate some random test sequences of different sizes:\n",
      "\n",
      "1. Small (1,000 sequences of length 100)\n",
      "2. Medium (10,000 sequences of length 100)\n",
      "3. Large (100,000 sequences of length 100)"
     ]
    },
    {
     "cell_type": "code",
     "collapsed": false,
     "input": [
      "test_files = [(1000, 'test-small.fa'), (10000, 'test-medium.fa'), (100000, 'test-large.fa')]\n",
      "for N, fn in test_files:\n",
      "    !make-random-transcriptome.py -N {N} -L 100 -o {fn}"
     ],
     "language": "python",
     "metadata": {
      "slideshow": {
       "slide_type": "fragment"
      }
     },
     "outputs": [],
     "prompt_number": 8
    },
    {
     "cell_type": "code",
     "collapsed": false,
     "input": [
      "%ls -sh"
     ],
     "language": "python",
     "metadata": {
      "slideshow": {
       "slide_type": "fragment"
      }
     },
     "outputs": [
      {
       "output_type": "stream",
       "stream": "stdout",
       "text": [
        "total 5.6G\r\n",
        " 28K khmer_parallel_metrics.ipynb   52K \u001b[0m\u001b[01;35mreadparser_threaded_time.svg\u001b[0m      56K single_threaded_time.eps   11M test-large.fa        96M test-partitioning.fa         1.1G test-xxl.fa\r\n",
        "4.0K Makefile                       44K readparser_xl_threaded_time.eps   68K single_threaded_time.pdf  618M test-large.filt.fa  4.0K test-partitioning-part.info   48K tsp_threaded_time.eps\r\n",
        " 44K readparser_threaded_time.eps   68K readparser_xl_threaded_time.pdf   32K \u001b[01;35msingle_threaded_time.png\u001b[0m  3.8G test-large.ht        16M test-partitioning-small.fa    92K tsp_threaded_time.pdf\r\n",
        " 68K readparser_threaded_time.pdf   32K \u001b[01;35mreadparser_xl_threaded_time.png\u001b[0m   76K \u001b[01;35msingle_threaded_time.svg\u001b[0m  4.0K test-large.ht.info  4.0K test_readparser_threaded.py   28K \u001b[01;35mtsp_threaded_time.png\u001b[0m\r\n",
        " 28K \u001b[01;35mreadparser_threaded_time.png\u001b[0m   56K \u001b[01;35mreadparser_xl_threaded_time.svg\u001b[0m  106M test-extra-large.fa       1.1M test-medium.fa      108K test-small.fa                 60K \u001b[01;35mtsp_threaded_time.svg\u001b[0m\r\n"
       ]
      }
     ],
     "prompt_number": 12
    },
    {
     "cell_type": "markdown",
     "metadata": {
      "slideshow": {
       "slide_type": "slide"
      }
     },
     "source": [
      "## Test Read Parsing\n",
      "\n",
      "First, let's test `screed` and `khmer.ReadParser` in a naive, single-threaded manner."
     ]
    },
    {
     "cell_type": "code",
     "collapsed": false,
     "input": [
      "def test_screed_single_threaded(fn):\n",
      "    for r in screed.open(fn):\n",
      "        pass"
     ],
     "language": "python",
     "metadata": {
      "slideshow": {
       "slide_type": "fragment"
      }
     },
     "outputs": [],
     "prompt_number": 5
    },
    {
     "cell_type": "code",
     "collapsed": false,
     "input": [
      "def test_readparser_single_threaded(fn):\n",
      "    for r in khmer.ReadParser(fn):\n",
      "        pass"
     ],
     "language": "python",
     "metadata": {
      "slideshow": {
       "slide_type": "fragment"
      }
     },
     "outputs": [],
     "prompt_number": 6
    },
    {
     "cell_type": "code",
     "collapsed": false,
     "input": [
      "screed_results = {}\n",
      "for _, fn in test_files:\n",
      "    results = %timeit -n 1 -r 10 -o test_screed_single_threaded(fn)\n",
      "    screed_results[fn] = results.all_runs"
     ],
     "language": "python",
     "metadata": {
      "slideshow": {
       "slide_type": "subslide"
      }
     },
     "outputs": [
      {
       "output_type": "stream",
       "stream": "stdout",
       "text": [
        "1 loops, best of 10: 6.29 ms per loop\n",
        "1 loops, best of 10: 62.8 ms per loop"
       ]
      },
      {
       "output_type": "stream",
       "stream": "stdout",
       "text": [
        "\n",
        "1 loops, best of 10: 632 ms per loop"
       ]
      },
      {
       "output_type": "stream",
       "stream": "stdout",
       "text": [
        "\n"
       ]
      }
     ],
     "prompt_number": 9
    },
    {
     "cell_type": "code",
     "collapsed": false,
     "input": [
      "readparser_results = {}\n",
      "for _, fn in test_files:\n",
      "    results = %timeit -n 1 -r 10 -o test_readparser_single_threaded(fn)\n",
      "    readparser_results[fn] = results.all_runs"
     ],
     "language": "python",
     "metadata": {
      "slideshow": {
       "slide_type": "fragment"
      }
     },
     "outputs": [
      {
       "output_type": "stream",
       "stream": "stdout",
       "text": [
        "1 loops, best of 10: 1.33 ms per loop\n",
        "1 loops, best of 10: 12.5 ms per loop"
       ]
      },
      {
       "output_type": "stream",
       "stream": "stdout",
       "text": [
        "\n",
        "1 loops, best of 10: 124 ms per loop"
       ]
      },
      {
       "output_type": "stream",
       "stream": "stdout",
       "text": [
        "\n"
       ]
      }
     ],
     "prompt_number": 10
    },
    {
     "cell_type": "code",
     "collapsed": false,
     "input": [
      "with peasoup.plot.FigManager('single_threaded_time', figsize=norm_size, show=False, ncols=2,\n",
      "                             tight_layout=False, sharey=True) as (fig, ax):\n",
      "\n",
      "    _ = pd.DataFrame(screed_results).boxplot(ax=ax[0], fontsize=16)\n",
      "    ax[0].set_title('$screed$ Time, Single-Threaded')\n",
      "    ax[0].set_ylabel('Exec Time (s)')\n",
      "    _ = pd.DataFrame(readparser_results).boxplot(ax=ax[1], fontsize=16)\n",
      "    ax[1].set_title('$khmer.ReadParser$ Time, Single-Threaded')\n",
      "FileLink('single_threaded_time.svg')"
     ],
     "language": "python",
     "metadata": {
      "slideshow": {
       "slide_type": "skip"
      }
     },
     "outputs": [
      {
       "html": [
        "<a href='single_threaded_time.svg' target='_blank'>single_threaded_time.svg</a><br>"
       ],
       "metadata": {},
       "output_type": "pyout",
       "prompt_number": 17,
       "text": [
        "/w/fs2014-cse891/final/metrics/single_threaded_time.svg"
       ]
      }
     ],
     "prompt_number": 17
    },
    {
     "cell_type": "markdown",
     "metadata": {
      "slideshow": {
       "slide_type": "subslide"
      }
     },
     "source": [
      "<center>\n",
      "![single-threaded results](single_threaded_time.svg \"\")\n",
      "</center>"
     ]
    },
    {
     "cell_type": "markdown",
     "metadata": {
      "slideshow": {
       "slide_type": "fragment"
      }
     },
     "source": [
      "The first thing we can see is that `khmer.ReadParser` performs significantly better than `screed`, even without taking threading into account. `screed` is not thread-safe; so, how does `khmer.ReadParser` scale with threading?"
     ]
    },
    {
     "cell_type": "markdown",
     "metadata": {
      "slideshow": {
       "slide_type": "slide"
      }
     },
     "source": [
      "### Multi-threaded `khmer.ReadParser`\n",
      "\n",
      "`khmer.ReadParser` is *supposed* to be compatible with python threads. So, let's confirm that's the case."
     ]
    },
    {
     "cell_type": "code",
     "collapsed": false,
     "input": [
      "def test_readparser_threaded(fn, n_threads=4, cache_slop=0):\n",
      "\n",
      "    import operator\n",
      "    import threading\n",
      "\n",
      "    reads_count_1thr = 0\n",
      "    rparser = khmer.ReadParser(fn)\n",
      "    for read in rparser:\n",
      "        reads_count_1thr += 1\n",
      "\n",
      "    def count_reads(rparser, counters, tnum):\n",
      "        counters[tnum] = reduce(operator.add, (1 for read in rparser))\n",
      "\n",
      "    config = khmer.get_config()\n",
      "    bufsz = config.get_reads_input_buffer_size()\n",
      "    config.set_reads_input_buffer_size((n_threads+cache_slop) * 64 * 1024)\n",
      "    threads = []\n",
      "    reads_counts_per_thread = [0] * n_threads\n",
      "    rparser = khmer.ReadParser(fn, n_threads)\n",
      "    for tnum in xrange(n_threads):\n",
      "        t = \\\n",
      "            threading.Thread(\n",
      "                target=count_reads,\n",
      "                args=[rparser, reads_counts_per_thread, tnum]\n",
      "            )\n",
      "        threads.append(t)\n",
      "        t.start()\n",
      "    for t in threads:\n",
      "        t.join()\n",
      "    config.set_reads_input_buffer_size(bufsz)\n",
      "\n",
      "    print reads_count_1thr, reads_counts_per_thread, sum(reads_counts_per_thread)\n",
      "    #assert reads_count_1thr == sum(reads_counts_per_thread)"
     ],
     "language": "python",
     "metadata": {
      "slideshow": {
       "slide_type": "fragment"
      }
     },
     "outputs": [],
     "prompt_number": 13
    },
    {
     "cell_type": "code",
     "collapsed": false,
     "input": [
      "%%capture\n",
      "readparser_results = {}\n",
      "for np in range(1,5):\n",
      "    try:\n",
      "        results = %timeit -n 1 -r 10 -o test_readparser_threaded('test-large.fa', np)\n",
      "    except Exception as e:\n",
      "        print e\n",
      "    readparser_results[np] = results.all_runs"
     ],
     "language": "python",
     "metadata": {
      "slideshow": {
       "slide_type": "subslide"
      }
     },
     "outputs": [],
     "prompt_number": 14
    },
    {
     "cell_type": "code",
     "collapsed": false,
     "input": [
      "with peasoup.plot.FigManager('readparser_threaded_time', figsize=norm_size, show=False,\n",
      "                             tight_layout=False) as (fig, ax):\n",
      "\n",
      "    ax.set_ylabel('Exec Time (s)')\n",
      "    ax.set_xlabel('Num Threads')\n",
      "    ax.set_ylim(bottom=0)\n",
      "    _ = pd.DataFrame(readparser_results).boxplot(ax=ax, fontsize=16)\n",
      "    ax.set_title('$khmer.ReadParser$: Total time parsing test-large.fa')\n",
      "FileLink('readparser_threaded_time.svg', )"
     ],
     "language": "python",
     "metadata": {
      "slideshow": {
       "slide_type": "skip"
      }
     },
     "outputs": [
      {
       "html": [
        "<a href='readparser_threaded_time.svg' target='_blank'>readparser_threaded_time.svg</a><br>"
       ],
       "metadata": {},
       "output_type": "pyout",
       "prompt_number": 15,
       "text": [
        "/w/fs2014-cse891/final/metrics/readparser_threaded_time.svg"
       ]
      }
     ],
     "prompt_number": 15
    },
    {
     "cell_type": "markdown",
     "metadata": {
      "slideshow": {
       "slide_type": "subslide"
      }
     },
     "source": [
      "<center>\n",
      "![multi-threaded results](readparser_threaded_time.svg \"\")\n",
      "</center>\n",
      "<h4 align=\"center\">ReadParser scales to two theads with minor benefit, but then drops off</h4>"
     ]
    },
    {
     "cell_type": "markdown",
     "metadata": {
      "slideshow": {
       "slide_type": "subslide"
      }
     },
     "source": [
      "### `khmer.ReadParser`: Larger Files\n",
      "\n",
      "We can see that the threading works, and there is a minor scaling benefit. Does a benefit start to show more clearly for larger filesizes?"
     ]
    },
    {
     "cell_type": "code",
     "collapsed": false,
     "input": [
      "#!make-random-transcriptome.py -N 1000000 -L 100 -o test-extra-large.fa"
     ],
     "language": "python",
     "metadata": {
      "slideshow": {
       "slide_type": "fragment"
      }
     },
     "outputs": [],
     "prompt_number": 14
    },
    {
     "cell_type": "code",
     "collapsed": false,
     "input": [
      "%%capture\n",
      "readparser_xl_results = {}\n",
      "for np in range(1,5):\n",
      "    try:\n",
      "        results = %timeit -n 1 -r 10 -o test_readparser_threaded('test-extra-large.fa', np)\n",
      "    except Exception as e:\n",
      "        print e\n",
      "    readparser_xl_results[np] = results.all_runs"
     ],
     "language": "python",
     "metadata": {
      "slideshow": {
       "slide_type": "fragment"
      }
     },
     "outputs": [],
     "prompt_number": 15
    },
    {
     "cell_type": "code",
     "collapsed": false,
     "input": [
      "with peasoup.plot.FigManager('readparser_xl_threaded_time', figsize=norm_size,\n",
      "                             tight_layout=False, show=False) as (fig, ax):\n",
      "\n",
      "    ax.set_ylabel('Exec Time (s)')\n",
      "    ax.set_xlabel('Num Threads')\n",
      "    _ = pd.DataFrame(readparser_xl_results).boxplot(ax=ax, fontsize=16)\n",
      "    ax.set_title('$khmer.ReadParser$: Total time parsing test-extra-large.fa')\n",
      "    ax.set_ylim(bottom=0)\n",
      "FileLink('readparser_xl_threaded_time.svg')"
     ],
     "language": "python",
     "metadata": {
      "slideshow": {
       "slide_type": "skip"
      }
     },
     "outputs": [
      {
       "html": [
        "<a href='readparser_xl_threaded_time.svg' target='_blank'>readparser_xl_threaded_time.svg</a><br>"
       ],
       "metadata": {},
       "output_type": "pyout",
       "prompt_number": 16,
       "text": [
        "/w/fs2014-cse891/final/metrics/readparser_xl_threaded_time.svg"
       ]
      }
     ],
     "prompt_number": 16
    },
    {
     "cell_type": "markdown",
     "metadata": {
      "slideshow": {
       "slide_type": "subslide"
      }
     },
     "source": [
      "<center>\n",
      "![multi-threaded results](readparser_xl_threaded_time.svg \"\")\n",
      "</center>\n",
      "<h4 align=\"center\">Results with 1m reads are similar</h4>"
     ]
    },
    {
     "cell_type": "markdown",
     "metadata": {
      "slideshow": {
       "slide_type": "slide"
      }
     },
     "source": [
      "## Abundance Filtering Performance\n",
      "\n",
      "`scripts/filter-abund.py` is currently implemented using `thread_utils.ThreaderSequenceProcessor`. Last I new, this did not scale; let's confirm. "
     ]
    },
    {
     "cell_type": "code",
     "collapsed": false,
     "input": [
      "%%capture\n",
      "!load-into-counting.py -k 20 -x 1e9 test-large.ht test-large.fa"
     ],
     "language": "python",
     "metadata": {
      "slideshow": {
       "slide_type": "fragment"
      }
     },
     "outputs": [],
     "prompt_number": 62
    },
    {
     "cell_type": "code",
     "collapsed": false,
     "input": [
      "%%capture\n",
      "tsp_results = {}\n",
      "for np in range(1,5):\n",
      "    try:\n",
      "        results = %timeit -n 1 -r 5 -o !filter-abund.py -V -C 2 -Z 2 -T {np} -o test-large.filt.fa test-large.ht test-large.fa\n",
      "    except Exception as e:\n",
      "        print e\n",
      "    tsp_results[np] = results.all_runs"
     ],
     "language": "python",
     "metadata": {
      "slideshow": {
       "slide_type": "fragment"
      }
     },
     "outputs": [],
     "prompt_number": 63
    },
    {
     "cell_type": "code",
     "collapsed": false,
     "input": [
      "with peasoup.plot.FigManager('tsp_threaded_time', figsize=norm_size,\n",
      "                             tight_layout=False, show=False) as (fig, ax):\n",
      "\n",
      "    ax.set_ylabel('Exec Time (s)')\n",
      "    ax.set_xlabel('Num Threads')\n",
      "    _ = pd.DataFrame(tsp_results).boxplot(ax=ax, fontsize=16)\n",
      "    ax.set_title('$scripts/filter-abund.py$: Total time processing test-large.fa')\n",
      "    ax.set_ylim(bottom=0)\n",
      "FileLink('tsp_threaded_time.svg')"
     ],
     "language": "python",
     "metadata": {
      "slideshow": {
       "slide_type": "skip"
      }
     },
     "outputs": [
      {
       "html": [
        "<a href='tsp_threaded_time.svg' target='_blank'>tsp_threaded_time.svg</a><br>"
       ],
       "metadata": {},
       "output_type": "pyout",
       "prompt_number": 64,
       "text": [
        "/w/fs2014-cse891/final/metrics/tsp_threaded_time.svg"
       ]
      }
     ],
     "prompt_number": 64
    },
    {
     "cell_type": "markdown",
     "metadata": {
      "slideshow": {
       "slide_type": "subslide"
      }
     },
     "source": [
      "<center>\n",
      "![multi-threaded results](tsp_threaded_time.svg \"\")\n",
      "</center>\n",
      "<h4 align=\"center\">Threading hurts performance</h4>"
     ]
    },
    {
     "cell_type": "markdown",
     "metadata": {
      "slideshow": {
       "slide_type": "slide"
      }
     },
     "source": [
      "## Partitioning Performance\n",
      "\n",
      "We've seen that threading hurts performance for `scripts/filter-abund.py`; is the effect on partitioning similar? We'll test with some real data this time, a subset of the assembled lamprey transcriptome."
     ]
    },
    {
     "cell_type": "code",
     "collapsed": false,
     "input": [
      "%%capture\n",
      "part_results = {}\n",
      "for np in range(1,5):\n",
      "    try:\n",
      "        results = %timeit -n 1 -r 5 -o !do-partition.py -x 1e9 --no-big-traverse -T {np} test-partitioning-part test-partitioning.fa\n",
      "    except Exception as e:\n",
      "        print e\n",
      "    part_results[np] = results.all_runs"
     ],
     "language": "python",
     "metadata": {
      "slideshow": {
       "slide_type": "subslide"
      }
     },
     "outputs": []
    },
    {
     "cell_type": "code",
     "collapsed": false,
     "input": [
      "with peasoup.plot.FigManager('part_threaded_time', figsize=norm_size,\n",
      "                             tight_layout=False, show=False) as (fig, ax):\n",
      "\n",
      "    ax.set_ylabel('Exec Time (s)')\n",
      "    ax.set_xlabel('Num Threads')\n",
      "    _ = pd.DataFrame(part_results).boxplot(ax=ax, fontsize=16)\n",
      "    ax.set_title('$scripts/do-partition.py$: Total time processing test-partitioning.fa')\n",
      "    ax.set_ylim(bottom=0)\n",
      "FileLink('part_threaded_time.svg')"
     ],
     "language": "python",
     "metadata": {
      "slideshow": {
       "slide_type": "skip"
      }
     },
     "outputs": [
      {
       "html": [
        "<a href='tsp_threaded_time.svg' target='_blank'>tsp_threaded_time.svg</a><br>"
       ],
       "metadata": {},
       "output_type": "pyout",
       "prompt_number": 64,
       "text": [
        "/w/fs2014-cse891/final/metrics/tsp_threaded_time.svg"
       ]
      }
     ],
     "prompt_number": 64
    },
    {
     "cell_type": "markdown",
     "metadata": {
      "slideshow": {
       "slide_type": "subslide"
      }
     },
     "source": [
      "<center>\n",
      "![multi-threaded results](tsp_threaded_time.svg \"\")\n",
      "</center>\n",
      "<h4 align=\"center\">Threading hurts performance</h4>"
     ]
    },
    {
     "cell_type": "markdown",
     "metadata": {
      "slideshow": {
       "slide_type": "slide"
      }
     },
     "source": [
      "## OpenMP \\_parallel methods\n",
      "\n",
      "To get started on adding more parallelization in c++ land, I started experimenting with OpenMP. This resulted in adding two new functions: `Hashtable::consume_string_parallel` and `Hashtable::consume_fasta_parallel`. These are exposed as `khmer.CountingHash.consume_parallel` and `khmer.CountingHash.consume_fasta_parallel`, respectively. Each takes an extra `n_threads` argument on top of their existing ones."
     ]
    },
    {
     "cell_type": "code",
     "collapsed": false,
     "input": [
      "reads = screed.open('test-extra-large.fa')\n",
      "\n",
      "def test_func(ht, it, np):\n",
      "    for _ in xrange(100):\n",
      "        ht.consume_parallel(it.next().sequence, np)\n",
      "\n",
      "pconsume_results = {}\n",
      "for np in range(1,5):\n",
      "    ht = khmer.new_counting_hash(25, 1e9, 4, np)\n",
      "    try:\n",
      "        results = %timeit -n 1 -r 1000 -o test_func(ht, reads, np)\n",
      "    except Exception as e:\n",
      "        print e\n",
      "    pconsume_results[np] = results.all_runs"
     ],
     "language": "python",
     "metadata": {
      "slideshow": {
       "slide_type": "skip"
      }
     },
     "outputs": [
      {
       "output_type": "stream",
       "stream": "stdout",
       "text": [
        "1 loops, best of 1000: 2.47 ms per loop\n",
        "1 loops, best of 1000: 1.89 ms per loop"
       ]
      },
      {
       "output_type": "stream",
       "stream": "stdout",
       "text": [
        "\n",
        "1 loops, best of 1000: 1.9 ms per loop"
       ]
      },
      {
       "output_type": "stream",
       "stream": "stdout",
       "text": [
        "\n",
        "1 loops, best of 1000: 1.76 ms per loop"
       ]
      },
      {
       "output_type": "stream",
       "stream": "stdout",
       "text": [
        "\n"
       ]
      }
     ],
     "prompt_number": 39
    },
    {
     "cell_type": "code",
     "collapsed": false,
     "input": [
      "with peasoup.plot.FigManager('pconsume_time', figsize=norm_size,\n",
      "                             tight_layout=False, show=False) as (fig, ax):\n",
      "\n",
      "    ax.set_ylabel('Exec Time (s)')\n",
      "    ax.set_xlabel('Num Threads')\n",
      "    _ = pd.DataFrame(pconsume_results).boxplot(ax=ax, fontsize=16, return_type='dict')\n",
      "    ax.set_title('$khmer.CountingHash.consume\\_parallel$: time per 100 reads')\n",
      "    ax.set_ylim(bottom=0)\n",
      "FileLink('pconsume_time.svg')"
     ],
     "language": "python",
     "metadata": {
      "slideshow": {
       "slide_type": "skip"
      }
     },
     "outputs": [
      {
       "html": [
        "<a href='pconsume_time.svg' target='_blank'>pconsume_time.svg</a><br>"
       ],
       "metadata": {},
       "output_type": "pyout",
       "prompt_number": 41,
       "text": [
        "/w/fs2014-cse891/final/metrics/pconsume_time.svg"
       ]
      }
     ],
     "prompt_number": 41
    },
    {
     "cell_type": "markdown",
     "metadata": {
      "slideshow": {
       "slide_type": "fragment"
      }
     },
     "source": [
      "<center>\n",
      "![multi-threaded results](pconsume_time.svg \"\")\n",
      "</center>\n",
      "<h4 align=\"center\">Performance gain is apparent, but minimal</h4>"
     ]
    },
    {
     "cell_type": "code",
     "collapsed": false,
     "input": [
      "def test_func(ht, fn, np):\n",
      "    ht.consume_fasta_parallel(fn, np)\n",
      "\n",
      "pfconsume_results = {}\n",
      "for np in range(1,5):\n",
      "    ht = khmer.new_counting_hash(25, 1e9, 4, np)\n",
      "    try:\n",
      "        results = %timeit -n 1 -r 10 -o test_func(ht, 'test-medium.fa', np)\n",
      "    except Exception as e:\n",
      "        print e\n",
      "    pfconsume_results[np] = results.all_runs"
     ],
     "language": "python",
     "metadata": {
      "slideshow": {
       "slide_type": "skip"
      }
     },
     "outputs": [
      {
       "output_type": "stream",
       "stream": "stdout",
       "text": [
        "1 loops, best of 10: 141 ms per loop\n",
        "1 loops, best of 10: 142 ms per loop"
       ]
      },
      {
       "output_type": "stream",
       "stream": "stdout",
       "text": [
        "\n",
        "1 loops, best of 10: 142 ms per loop"
       ]
      },
      {
       "output_type": "stream",
       "stream": "stdout",
       "text": [
        "\n",
        "1 loops, best of 10: 143 ms per loop"
       ]
      },
      {
       "output_type": "stream",
       "stream": "stdout",
       "text": [
        "\n"
       ]
      }
     ],
     "prompt_number": 21
    },
    {
     "cell_type": "code",
     "collapsed": false,
     "input": [
      "with peasoup.plot.FigManager('pfconsume_time', figsize=norm_size,\n",
      "                             tight_layout=False, show=False) as (fig, ax):\n",
      "\n",
      "    ax.set_ylabel('Exec Time (s)')\n",
      "    ax.set_xlabel('Num Threads')\n",
      "    _ = pd.DataFrame(pfconsume_results).boxplot(ax=ax, fontsize=16, return_type='dict')\n",
      "    ax.set_title('$khmer.CountingHash.consume\\_fasta\\_parallel$: time per read')\n",
      "    ax.set_ylim(bottom=0)\n",
      "FileLink('pfconsume_time.svg')"
     ],
     "language": "python",
     "metadata": {
      "slideshow": {
       "slide_type": "skip"
      }
     },
     "outputs": [
      {
       "html": [
        "<a href='pfconsume_time.svg' target='_blank'>pfconsume_time.svg</a><br>"
       ],
       "metadata": {},
       "output_type": "pyout",
       "prompt_number": 22,
       "text": [
        "/w/fs2014-cse891/final/metrics/pfconsume_time.svg"
       ]
      }
     ],
     "prompt_number": 22
    },
    {
     "cell_type": "markdown",
     "metadata": {
      "slideshow": {
       "slide_type": "subslide"
      }
     },
     "source": [
      "<center>\n",
      "![multi-threaded results](pfconsume_time.svg \"\")\n",
      "</center>\n",
      "<h4 align=\"center\">No discernable gain</h4>"
     ]
    },
    {
     "cell_type": "markdown",
     "metadata": {
      "slideshow": {
       "slide_type": "slide"
      }
     },
     "source": [
      "## Async Writing\n",
      "\n",
      "Next, I have implemented an asynchronous writing function to `khmer::Hashtable`. This works by spawning a worker thread which waits on a queue of k-mers; writing operations push to this queue, which is consumed asynchonously. For now, there is only one writing thread, to avoid the performance hit of locking."
     ]
    },
    {
     "cell_type": "code",
     "collapsed": false,
     "input": [
      "reads = screed.open('test-extra-large.fa')\n",
      "\n",
      "def test_func(ht, it):\n",
      "    for _ in xrange(100):\n",
      "        ht.consume_async(it.next().sequence)\n",
      "        \n",
      "ht = khmer.new_counting_hash(25, 1e9, 4, 2)\n",
      "try:\n",
      "    async_consume_results = %timeit -n 1 -r 1000 -o test_func(ht, reads)\n",
      "except Exception as e:\n",
      "    print e\n",
      "async_consume_results = async_consume_results.all_runs"
     ],
     "language": "python",
     "metadata": {
      "slideshow": {
       "slide_type": "skip"
      }
     },
     "outputs": [
      {
       "output_type": "stream",
       "stream": "stdout",
       "text": [
        "1 loops, best of 1000: 1.89 ms per loop\n"
       ]
      }
     ],
     "prompt_number": 58
    },
    {
     "cell_type": "code",
     "collapsed": false,
     "input": [
      "with peasoup.plot.FigManager('async_consume_time', figsize=norm_size,\n",
      "                             tight_layout=False, show=False) as (fig, ax):\n",
      "    \n",
      "    data = dict(pconsume_results.items())\n",
      "    data['async'] = async_consume_results\n",
      "    _ = pd.DataFrame(data).boxplot(ax=ax, fontsize=16, return_type='dict')\n",
      "\n",
      "    ax.set_ylabel('Exec Time (s)')\n",
      "    ax.set_xlabel('Num Threads')\n",
      "\n",
      "    ax.set_title('$khmer.CountingHash.consume\\_async$: time per 100 reads')\n",
      "    ax.set_ylim(bottom=0)\n",
      "FileLink('async_consume_time.svg')"
     ],
     "language": "python",
     "metadata": {
      "slideshow": {
       "slide_type": "skip"
      }
     },
     "outputs": [
      {
       "html": [
        "<a href='async_consume_time.svg' target='_blank'>async_consume_time.svg</a><br>"
       ],
       "metadata": {},
       "output_type": "pyout",
       "prompt_number": 59,
       "text": [
        "/w/fs2014-cse891/final/metrics/async_consume_time.svg"
       ]
      }
     ],
     "prompt_number": 59
    },
    {
     "cell_type": "markdown",
     "metadata": {
      "slideshow": {
       "slide_type": "fragment"
      }
     },
     "source": [
      "<center>\n",
      "![async results](async_consume_time.svg \"\")\n",
      "</center>\n",
      "\n",
      "Results are similar to the parallel consume with multiple threads. However, we're less concerned about raw consume performance; we care more about the advantage of writing happening in the background while execution continues. So, let's look at diginorm!"
     ]
    },
    {
     "cell_type": "code",
     "collapsed": false,
     "input": [
      "%%capture\n",
      "nbm_results = {}\n",
      "try:\n",
      "    results = %timeit -n 1 -r 2 -o !normalize-by-median.py -C 2 -k 20 -x 1e8 test-large.fa\n",
      "except Exception as e:\n",
      "    print e\n",
      "nbm_results['default'] = results.all_runs\n",
      "\n",
      "try:\n",
      "    results = %timeit -n 1 -r 2 -o !normalize-by-median.py -C 2 --async -k 20 -x 1e8 test-large.fa\n",
      "except Exception as e:\n",
      "    print e\n",
      "nbm_results['async'] = results.all_runs"
     ],
     "language": "python",
     "metadata": {},
     "outputs": [],
     "prompt_number": 61
    },
    {
     "cell_type": "code",
     "collapsed": false,
     "input": [
      "with peasoup.plot.FigManager('nbm_async_time', figsize=norm_size,\n",
      "                             tight_layout=False, show=True) as (fig, ax):\n",
      "\n",
      "    ax.set_ylabel('Exec Time (s)')\n",
      "    ax.set_xlabel('Num Threads')\n",
      "    _ = pd.DataFrame(nbm_results).boxplot(ax=ax, fontsize=16)\n",
      "    ax.set_title('$scripts/normalize-by-median.py$: Total time processing test-large.fa')\n",
      "    ax.set_ylim(bottom=0)\n",
      "FileLink('nbm_async_time.svg')"
     ],
     "language": "python",
     "metadata": {},
     "outputs": [
      {
       "metadata": {},
       "output_type": "display_data",
       "png": "[encoded data removed]",
       "text": [
        "<matplotlib.figure.Figure at 0x7f16cb1ecb90>"
       ]
      },
      {
       "html": [
        "<a href='nbm_async_time.svg' target='_blank'>nbm_async_time.svg</a><br>"
       ],
       "metadata": {},
       "output_type": "pyout",
       "prompt_number": 62,
       "text": [
        "/w/fs2014-cse891/final/metrics/nbm_async_time.svg"
       ]
      }
     ],
     "prompt_number": 62
    },
    {
     "cell_type": "code",
     "collapsed": false,
     "input": [
      "%%capture output\n",
      "%timeit -r 100 -n 1 !./test_async_diginorm.py ../khmer/tests/test-data/test-reads.fa 1"
     ],
     "language": "python",
     "metadata": {},
     "outputs": [],
     "prompt_number": 37
    },
    {
     "cell_type": "code",
     "collapsed": false,
     "input": [
      "vals = []\n",
      "import re\n",
      "p = re.compile('kept \\d+')\n",
      "for match in p.finditer(output.stdout):\n",
      "    s, e = match.span()\n",
      "    vals.append( int(output.stdout[s:e].split()[1]) )"
     ],
     "language": "python",
     "metadata": {},
     "outputs": [],
     "prompt_number": 38
    },
    {
     "cell_type": "code",
     "collapsed": false,
     "input": [
      "max(vals)"
     ],
     "language": "python",
     "metadata": {},
     "outputs": [
      {
       "metadata": {},
       "output_type": "pyout",
       "prompt_number": 39,
       "text": [
        "24992"
       ]
      }
     ],
     "prompt_number": 39
    },
    {
     "cell_type": "code",
     "collapsed": false,
     "input": [
      "asd_res = pd.read_table('res.txt', delim_whitespace=True, header=False, names=['np', 'time', 'x', 'y', 'z'])"
     ],
     "language": "python",
     "metadata": {},
     "outputs": [],
     "prompt_number": 64
    },
    {
     "cell_type": "code",
     "collapsed": false,
     "input": [
      "with peasoup.plot.FigManager('async_diginorm_time', figsize=norm_size, show=True,\n",
      "                             tight_layout=False) as (fig, ax):\n",
      "\n",
      "    _ = asd_res.groupby('np').mean().time.plot(ax=ax)\n",
      "    ax.set_ylabel('Exec Time (s)')\n",
      "    ax.set_xlabel('Num Threads')\n",
      "    ax.set_title('$scripts/normalize-by-median-async.py$: Total time processing test.4m.fq')\n",
      "    ax.set_ylim(bottom=0)\n",
      "    ax.set_xticks(range(1,5))\n",
      "FileLink('async_diginorm_time.png')"
     ],
     "language": "python",
     "metadata": {},
     "outputs": [
      {
       "metadata": {},
       "output_type": "display_data",
       "png": "[encoded data removed]",
       "text": [
        "<matplotlib.figure.Figure at 0x7f533f85a150>"
       ]
      },
      {
       "html": [
        "<a href='async_diginorm_time.png' target='_blank'>async_diginorm_time.png</a><br>"
       ],
       "metadata": {},
       "output_type": "pyout",
       "prompt_number": 68,
       "text": [
        "/w/khmer-metrics/async_diginorm_time.png"
       ]
      }
     ],
     "prompt_number": 68
    },
    {
     "cell_type": "code",
     "collapsed": false,
     "input": [
      "asd_hpc = pd.read_table('timings-40m-C10-hpc.tsv', delim_whitespace=True, header=False, names=['np', 'time', 'x', 'y', 'z'])"
     ],
     "language": "python",
     "metadata": {},
     "outputs": [],
     "prompt_number": 69
    },
    {
     "cell_type": "code",
     "collapsed": false,
     "input": [
      "dg_hpc = pd.read_table('timings-serial-40m-C10-hpc.tsv', delim_whitespace=True, header=False, names=['time', 'x', 'y', 'z'])"
     ],
     "language": "python",
     "metadata": {},
     "outputs": [],
     "prompt_number": 74
    },
    {
     "cell_type": "code",
     "collapsed": false,
     "input": [
      "dg_hpc"
     ],
     "language": "python",
     "metadata": {},
     "outputs": [
      {
       "html": [
        "<div style=\"max-height:1000px;max-width:1500px;overflow:auto;\">\n",
        "<table border=\"1\" class=\"dataframe\">\n",
        "  <thead>\n",
        "    <tr style=\"text-align: right;\">\n",
        "      <th></th>\n",
        "      <th>time</th>\n",
        "      <th>x</th>\n",
        "      <th>y</th>\n",
        "      <th>z</th>\n",
        "    </tr>\n",
        "  </thead>\n",
        "  <tbody>\n",
        "    <tr>\n",
        "      <th>0</th>\n",
        "      <td> 1041.77</td>\n",
        "      <td> 0</td>\n",
        "      <td> 0</td>\n",
        "      <td> 7417</td>\n",
        "    </tr>\n",
        "    <tr>\n",
        "      <th>1</th>\n",
        "      <td> 1033.09</td>\n",
        "      <td> 0</td>\n",
        "      <td> 0</td>\n",
        "      <td> 7448</td>\n",
        "    </tr>\n",
        "    <tr>\n",
        "      <th>2</th>\n",
        "      <td> 1059.50</td>\n",
        "      <td> 0</td>\n",
        "      <td> 0</td>\n",
        "      <td> 7474</td>\n",
        "    </tr>\n",
        "    <tr>\n",
        "      <th>3</th>\n",
        "      <td> 1027.74</td>\n",
        "      <td> 0</td>\n",
        "      <td> 0</td>\n",
        "      <td> 7985</td>\n",
        "    </tr>\n",
        "  </tbody>\n",
        "</table>\n",
        "</div>"
       ],
       "metadata": {},
       "output_type": "pyout",
       "prompt_number": 75,
       "text": [
        "      time  x  y     z\n",
        "0  1041.77  0  0  7417\n",
        "1  1033.09  0  0  7448\n",
        "2  1059.50  0  0  7474\n",
        "3  1027.74  0  0  7985"
       ]
      }
     ],
     "prompt_number": 75
    },
    {
     "cell_type": "code",
     "collapsed": false,
     "input": [
      "with peasoup.plot.FigManager('async_diginorm_hpc_time', figsize=norm_size, show=True, ncols=2,\n",
      "                             tight_layout=False, sharey=True) as (fig, ax):\n",
      "\n",
      "    _ = asd_hpc.groupby('np').mean().time.plot(ax=ax[1])\n",
      "    ax[0].set_ylabel('Exec Time (s)')\n",
      "    ax[1].set_xlabel('Num Threads')\n",
      "    ax[1].set_title('$scripts/normalize-by-median-async.py$')\n",
      "    ax[1].set_ylim(bottom=0, top=1200)\n",
      "    ax[1].set_xticks([1,2,4,8,12,16])\n",
      "    \n",
      "    _ = dg_hpc.boxplot(ax=ax[0], column='time')\n",
      "    ax[0].set_xlabel('Single Thread')\n",
      "    ax[0].set_xticks([])\n",
      "    ax[0].set_title('$scripts/normalize-by-median.py$ (serial)')\n",
      "    \n",
      "FileLink('async_diginorm_hpc_time.png')"
     ],
     "language": "python",
     "metadata": {},
     "outputs": [
      {
       "metadata": {},
       "output_type": "display_data",
       "png": "[encoded data removed]",
       "text": [
        "<matplotlib.figure.Figure at 0x7f533f3a5b90>"
       ]
      },
      {
       "html": [
        "<a href='async_diginorm_hpc_time.png' target='_blank'>async_diginorm_hpc_time.png</a><br>"
       ],
       "metadata": {},
       "output_type": "pyout",
       "prompt_number": 84,
       "text": [
        "/w/khmer-metrics/async_diginorm_hpc_time.png"
       ]
      }
     ],
     "prompt_number": 84
    },
    {
     "cell_type": "code",
     "collapsed": false,
     "input": [
      "FileLink('test.svg')"
     ],
     "language": "python",
     "metadata": {},
     "outputs": [
      {
       "html": [
        "<a href='test.svg' target='_blank'>test.svg</a><br>"
       ],
       "metadata": {},
       "output_type": "pyout",
       "prompt_number": 85,
       "text": [
        "/w/khmer-metrics/test.svg"
       ]
      }
     ],
     "prompt_number": 85
    },
    {
     "cell_type": "markdown",
     "metadata": {
      "slideshow": {
       "slide_type": "slide"
      }
     },
     "source": [
      "## Outstanding Issues\n",
      "\n",
      "### Threadsafe Counting Increment\n",
      "\n",
      "Currently, incrementing counts is not threadsafe. If we look at `CountingHash::count`, the current code is:\n",
      "\n",
      "```\n",
      "unsigned int  n_full\t  = 0;\n",
      "\n",
      "for (unsigned int i = 0; i < _n_tables; i++) {\n",
      "    const HashIntoType bin = khash % _tablesizes[i];\n",
      "    // NOTE: Technically, multiple threads can cause the bin to spill\n",
      "    //\t over max_count a little, if they all read it as less than\n",
      "    //\t max_count before any of them increment it.\n",
      "    //\t However, do we actually care if there is a little\n",
      "    //\t bit of slop here? It can always be trimmed off later, if\n",
      "    //\t that would help with stats.\n",
      "    if ( _max_count > _counts[ i ][ bin ] ) {\n",
      "        __sync_add_and_fetch( *(_counts + i) + bin, 1 );\n",
      "    } else {\n",
      "        n_full++;\n",
      "    }\n",
      "}\n",
      "```\n",
      "\n",
      "See [doxygen](http://ci.ged.msu.edu/job/khmer-master/doxygen/counting_8hh_source.html#l00158) for full code.\n",
      "\n",
      "The comment notes the possible problem: a counter could be incremented between the read and the increment. However, the \"slop\" is considerable, because `unsigned char` behaves like a modulo 255 ring, meaning that if we overrun, we wrap back around to zero, throwing off the count considerably. An obvious and fast solution is to simply wrap the `if` statement in a lock.\n",
      "\n",
      "**TODO**: *test performance hit of lock*"
     ]
    },
    {
     "cell_type": "code",
     "collapsed": false,
     "input": [],
     "language": "python",
     "metadata": {},
     "outputs": []
    },
    {
     "cell_type": "markdown",
     "metadata": {
      "slideshow": {
       "slide_type": "subslide"
      }
     },
     "source": []
    }
   ],
   "metadata": {}
  }
 ]
}